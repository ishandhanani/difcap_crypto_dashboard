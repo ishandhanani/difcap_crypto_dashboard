{
 "cells": [
  {
   "cell_type": "code",
   "execution_count": 1,
   "id": "df4a0559",
   "metadata": {},
   "outputs": [],
   "source": [
    "import plotly.express as px\n",
    "from jupyter_dash import JupyterDash\n",
    "import dash\n",
    "from dash import dcc, html\n",
    "from dash.dependencies import Input, Output\n",
    "import pandas as pd\n",
    "import numpy as np"
   ]
  },
  {
   "cell_type": "code",
   "execution_count": 66,
   "id": "88df7353",
   "metadata": {},
   "outputs": [],
   "source": [
    "def read_data(name = 'btcusd'):\n",
    "    import pandas as pd\n",
    "    path = f\"data/{name}.csv\"\n",
    "    df =pd.read_csv(path)    \n",
    "    return df"
   ]
  },
  {
   "cell_type": "code",
   "execution_count": 80,
   "id": "34deda93",
   "metadata": {},
   "outputs": [],
   "source": [
    "test=read_data('ethusd').tail(2).iloc[1,1:2]\n"
   ]
  },
  {
   "cell_type": "code",
   "execution_count": 83,
   "id": "3d140544",
   "metadata": {},
   "outputs": [
    {
     "name": "stdout",
     "output_type": "stream",
     "text": [
      "2917.4\n"
     ]
    }
   ],
   "source": [
    "print(test[0])"
   ]
  },
  {
   "cell_type": "code",
   "execution_count": 84,
   "id": "6c5b7962",
   "metadata": {},
   "outputs": [],
   "source": [
    "btc = read_data('btcusd').tail(2).iloc[1,1:2]\n",
    "eth = read_data('ethusd').tail(2).iloc[1,1:2]\n",
    "bnb = read_data('btcusd').tail(2).iloc[1,1:2]\n",
    "xrp = read_data('xrpusd').tail(2).iloc[1,1:2]\n",
    "ada = read_data('adausd').tail(2).iloc[1,1:2]\n",
    "sol = read_data('solusd').tail(2).iloc[1,1:2]\n",
    "terra = read_data('btcusd').tail(2).iloc[1,1:2]\n",
    "avax = read_data('btcusd').tail(2).iloc[1,1:2]"
   ]
  },
  {
   "cell_type": "code",
   "execution_count": 85,
   "id": "dd6068a9",
   "metadata": {},
   "outputs": [],
   "source": [
    "btcd=html.Div(children = btc[0], style={'color': '#6baaa6'})\n",
    "ethd=html.Div(children = eth[0], style={'color': '#6baaa6'})\n",
    "bnbd=html.Div(children = bnb[0], style={'color': '#6baaa6'})\n",
    "xrpd=html.Div(children = xrp[0], style={'color': '#6baaa6'})\n",
    "adad=html.Div(children = ada[0], style={'color': '#6baaa6'})\n",
    "sold=html.Div(children = sol[0], style={'color': '#6baaa6'})\n",
    "terrad=html.Div(children = terra[0], style={'color': '#6baaa6'})\n",
    "avaxd=html.Div(children = avax[0], style={'color': '#6baaa6'})"
   ]
  },
  {
   "cell_type": "code",
   "execution_count": 86,
   "id": "4c5a2caa",
   "metadata": {},
   "outputs": [
    {
     "name": "stderr",
     "output_type": "stream",
     "text": [
      "/opt/anaconda3/lib/python3.9/site-packages/jupyter_dash/jupyter_app.py:139: UserWarning:\n",
      "\n",
      "The 'environ['werkzeug.server.shutdown']' function is deprecated and will be removed in Werkzeug 2.1.\n",
      "\n"
     ]
    },
    {
     "data": {
      "text/html": [
       "\n",
       "        <iframe\n",
       "            width=\"100%\"\n",
       "            height=\"650\"\n",
       "            src=\"http://127.0.0.1:8050/\"\n",
       "            frameborder=\"0\"\n",
       "            allowfullscreen\n",
       "            \n",
       "        ></iframe>\n",
       "        "
      ],
      "text/plain": [
       "<IPython.lib.display.IFrame at 0x7f8cb801ccd0>"
      ]
     },
     "metadata": {},
     "output_type": "display_data"
    }
   ],
   "source": [
    "app = JupyterDash(__name__)\n",
    "\n",
    "colors = {                                \n",
    "    'background': '#26609f',\n",
    "    'text': '#7FDBFF' #not using this text color rn\n",
    "}\n",
    "\n",
    "# 1. Build App\n",
    "app.layout = html.Div(style={'backgroundColor': colors['background']}\n",
    "    \n",
    "    ,children=[\n",
    "    html.Div(children=['BTC', btcd], style={'width': '12.5%', 'display': 'inline-block', 'text-align':'center'}),\n",
    "    html.Div(children=['ETH', ethd], style={'width': '12.5%', 'display': 'inline-block', 'text-align':'center'}),\n",
    "    html.Div(children=['BNB', bnbd], style={'width': '12.5%', 'display': 'inline-block', 'text-align':'center'}),\n",
    "    html.Div(children=['XRP', xrpd], style={'width': '12.5%', 'display': 'inline-block', 'text-align':'center'}),\n",
    "    html.Div(children=['ADA', adad], style={'width': '12.5%', 'display': 'inline-block', 'text-align':'center'}),\n",
    "    html.Div(children=['SOL', sold], style={'width': '12.5%', 'display': 'inline-block', 'text-align':'center'}),\n",
    "    html.Div(children=['TERRA', terrad], style={'width': '12.5%', 'display': 'inline-block', 'text-align':'center'}),\n",
    "    html.Div(children=['AVAX', avaxd], style={'width': '12.5%', 'display': 'inline-block', 'text-align':'center'})\n",
    "])\n",
    "\n",
    "# 3. Run app and display result inline in the notebook\n",
    "app.run_server(mode='inline')"
   ]
  },
  {
   "cell_type": "code",
   "execution_count": null,
   "id": "1383dc26",
   "metadata": {},
   "outputs": [],
   "source": []
  }
 ],
 "metadata": {
  "kernelspec": {
   "display_name": "Python 3 (ipykernel)",
   "language": "python",
   "name": "python3"
  },
  "language_info": {
   "codemirror_mode": {
    "name": "ipython",
    "version": 3
   },
   "file_extension": ".py",
   "mimetype": "text/x-python",
   "name": "python",
   "nbconvert_exporter": "python",
   "pygments_lexer": "ipython3",
   "version": "3.9.7"
  }
 },
 "nbformat": 4,
 "nbformat_minor": 5
}
