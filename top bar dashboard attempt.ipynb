{
 "cells": [
  {
   "cell_type": "code",
   "execution_count": 196,
   "id": "df4a0559",
   "metadata": {},
   "outputs": [],
   "source": [
    "import plotly.express as px\n",
    "from jupyter_dash import JupyterDash\n",
    "import dash\n",
    "from dash import dcc, html\n",
    "from dash.dependencies import Input, Output\n",
    "import pandas as pd\n",
    "import numpy as np\n",
    "from dash import dash_table #rounded corners"
   ]
  },
  {
   "cell_type": "code",
   "execution_count": 2,
   "id": "88df7353",
   "metadata": {},
   "outputs": [],
   "source": [
    "def read_data(name = 'btcusd'):\n",
    "    import pandas as pd\n",
    "    path = f\"data/{name}.csv\"\n",
    "    df =pd.read_csv(path)    \n",
    "    return df"
   ]
  },
  {
   "cell_type": "code",
   "execution_count": 3,
   "id": "34deda93",
   "metadata": {},
   "outputs": [],
   "source": [
    "test=read_data('ethusd').tail(2).iloc[1,1:2]\n"
   ]
  },
  {
   "cell_type": "code",
   "execution_count": 4,
   "id": "3d140544",
   "metadata": {},
   "outputs": [
    {
     "name": "stdout",
     "output_type": "stream",
     "text": [
      "2917.4\n"
     ]
    }
   ],
   "source": [
    "print(test[0])"
   ]
  },
  {
   "cell_type": "code",
   "execution_count": 5,
   "id": "6c5b7962",
   "metadata": {},
   "outputs": [],
   "source": [
    "btc = read_data('btcusd').tail(2).iloc[1,1:2]\n",
    "eth = read_data('ethusd').tail(2).iloc[1,1:2]\n",
    "bnb = read_data('btcusd').tail(2).iloc[1,1:2]\n",
    "xrp = read_data('xrpusd').tail(2).iloc[1,1:2]\n",
    "ada = read_data('adausd').tail(2).iloc[1,1:2]\n",
    "sol = read_data('solusd').tail(2).iloc[1,1:2]\n",
    "terra = read_data('btcusd').tail(2).iloc[1,1:2]\n",
    "avax = read_data('btcusd').tail(2).iloc[1,1:2]"
   ]
  },
  {
   "cell_type": "code",
   "execution_count": 194,
   "id": "dd6068a9",
   "metadata": {},
   "outputs": [],
   "source": [
    "#price displaying divs\n",
    "\n",
    "btcd=html.Div(children = html.Div(btc[0],style={'font-size':'20px','font-family':'sans-serif'}), style={'color': 'white', 'backgroundColor': '#cfc16b'})\n",
    "ethd=html.Div(children = html.Div(eth[0],style={'font-size':'20px','font-family':'sans-serif'}), style={'color': 'white', 'backgroundColor': '#cfc16b'})\n",
    "bnbd=html.Div(children = html.Div(bnb[0],style={'font-size':'20px','font-family':'sans-serif'}), style={'color': 'white', 'backgroundColor': '#cfc16b'})\n",
    "xrpd=html.Div(children = html.Div(xrp[0],style={'font-size':'20px','font-family':'sans-serif'}), style={'color': 'white', 'backgroundColor': '#cfc16b'})\n",
    "adad=html.Div(children = html.Div(ada[0],style={'font-size':'20px','font-family':'sans-serif'}), style={'color': 'white', 'backgroundColor': '#cfc16b'})\n",
    "sold=html.Div(children = html.Div(sol[0],style={'font-size':'20px','font-family':'sans-serif'}), style={'color': 'white', 'backgroundColor': '#cfc16b'})\n",
    "terrad=html.Div(children = html.Div(terra[0],style={'font-size':'20px','font-family':'sans-serif'}), style={'color': 'white', 'backgroundColor': '#cfc16b'})\n",
    "avaxd=html.Div(children = html.Div(avax[0],style={'font-size':'20px','font-family':'sans-serif'}), style={'color': 'white', 'backgroundColor': '#cfc16b'})"
   ]
  },
  {
   "cell_type": "code",
   "execution_count": 209,
   "id": "4c5a2caa",
   "metadata": {},
   "outputs": [
    {
     "data": {
      "text/html": [
       "\n",
       "        <iframe\n",
       "            width=\"100%\"\n",
       "            height=\"650\"\n",
       "            src=\"http://127.0.0.1:8050/\"\n",
       "            frameborder=\"0\"\n",
       "            allowfullscreen\n",
       "            \n",
       "        ></iframe>\n",
       "        "
      ],
      "text/plain": [
       "<IPython.lib.display.IFrame at 0x7fe8618d6fa0>"
      ]
     },
     "metadata": {},
     "output_type": "display_data"
    }
   ],
   "source": [
    "app = JupyterDash(__name__)\n",
    "\n",
    "colors = {                                \n",
    "    'background': '#6baaa6',\n",
    "    'text': '#7FDBFF' #not using this text color rn\n",
    "}\n",
    "\n",
    "#'border-radius':'15px 15px 15px 15px' for rounded corners\n",
    "\n",
    "# 1. Build App\n",
    "app.layout = html.Div(style={'backgroundColor': colors['background'], 'height':'125px'}\n",
    "    \n",
    "    ,children=[\n",
    "    html.Div(children=[html.Div('BTC', style={'color':'white','margin-top':'25px','margin-bottom':'25px','backgroundColor': '#297353', 'font-size':'20px','font-family':'sans-serif'}), btcd], style={'width': '11%', 'display': 'inline-block', 'text-align':'center','margin-right': '10px', 'margin-left':'25px'}),\n",
    "    html.Div(children=[html.Div('ETH', style={'color':'white','margin-top':'25px','margin-bottom':'25px','backgroundColor': '#297353', 'font-size':'20px','font-family':'sans-serif'}), ethd], style={'width': '11%', 'display': 'inline-block', 'text-align':'center','margin-right': '10px'}),\n",
    "    html.Div(children=[html.Div('BNB', style={'color':'white','margin-top':'25px','margin-bottom':'25px','backgroundColor': '#297353', 'font-size':'20px','font-family':'sans-serif'}), bnbd], style={'width': '11%', 'display': 'inline-block', 'text-align':'center','margin-right': '10px'}),\n",
    "    html.Div(children=[html.Div('XRP', style={'color':'white','margin-top':'25px','margin-bottom':'25px','backgroundColor': '#297353', 'font-size':'20px','font-family':'sans-serif'}), xrpd], style={'width': '11%', 'display': 'inline-block', 'text-align':'center','margin-right': '10px'}),\n",
    "    html.Div(children=[html.Div('ADA', style={'color':'white','margin-top':'25px','margin-bottom':'25px','backgroundColor': '#297353', 'font-size':'20px','font-family':'sans-serif'}), adad], style={'width': '11%', 'display': 'inline-block', 'text-align':'center','margin-right': '10px'}),\n",
    "    html.Div(children=[html.Div('SOL', style={'color':'white','margin-top':'25px','margin-bottom':'25px','backgroundColor': '#297353', 'font-size':'20px','font-family':'sans-serif'}), sold], style={'width': '11%', 'display': 'inline-block', 'text-align':'center','margin-right': '10px'}),\n",
    "    html.Div(children=[html.Div('TERRA', style={'color':'white','margin-top':'25px','margin-bottom':'25px','backgroundColor': '#297353', 'font-size':'20px','font-family':'sans-serif'}), terrad], style={'width': '11%', 'display': 'inline-block', 'text-align':'center','margin-right': '10px'}),\n",
    "    html.Div(children=[html.Div('AVAX', style={'color':'white','margin-top':'25px','margin-bottom':'25px','backgroundColor': '#297353', 'font-size':'20px','font-family':'sans-serif'}), avaxd], style={'width': '11%', 'display': 'inline-block', 'text-align':'center','margin-right': '10px'})\n",
    "])\n",
    "\n",
    "# 3. Run app and display result inline in the notebook\n",
    "app.run_server(mode='inline')"
   ]
  },
  {
   "cell_type": "code",
   "execution_count": null,
   "id": "1383dc26",
   "metadata": {},
   "outputs": [],
   "source": []
  }
 ],
 "metadata": {
  "kernelspec": {
   "display_name": "Python 3 (ipykernel)",
   "language": "python",
   "name": "python3"
  },
  "language_info": {
   "codemirror_mode": {
    "name": "ipython",
    "version": 3
   },
   "file_extension": ".py",
   "mimetype": "text/x-python",
   "name": "python",
   "nbconvert_exporter": "python",
   "pygments_lexer": "ipython3",
   "version": "3.9.7"
  }
 },
 "nbformat": 4,
 "nbformat_minor": 5
}
